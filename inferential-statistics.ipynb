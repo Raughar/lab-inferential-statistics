{
 "cells": [
  {
   "cell_type": "markdown",
   "metadata": {},
   "source": [
    "### Case:\n",
    "It is assumed that the mean systolic blood pressure is μ = 120 mm Hg. In the Honolulu Heart Study, a sample of n = 100 people had an average systolic blood pressure of 130.1 mm Hg with a standard deviation of 21.21 mm Hg. Is the group significantly different (with respect to systolic blood pressure!) from the regular population?"
   ]
  },
  {
   "cell_type": "markdown",
   "metadata": {},
   "source": [
    "### Hypothesis testing:\n",
    "\n",
    "- Step 1: Define the test \n",
    "\n",
    "Null Hypothesis (H0): μ (population mean) = 120 mm Hg, Alternative Hypothesis (H1): μ ≠ 120 mm Hg (two-tailed test)\n",
    "\n",
    "- Step 2: Choosing the significance level\n",
    "\n",
    "We will assume a common significance level of 0.05\n",
    "\n",
    "- Step 3: Select the test statistics\n",
    "\n",
    " We will use the t-test to get the mean, as we are working with the mean of a sample of population and the standard deviation is unknown.\n",
    "\n",
    "- Step 4: Calculate the test statistic: \n",
    "\n",
    "Calculating it by hand: t = (130.1 - 120)/(21.21/√100) = 4.7619\n",
    "\n",
    "We will use Python below:"
   ]
  },
  {
   "cell_type": "code",
   "execution_count": 4,
   "metadata": {},
   "outputs": [
    {
     "name": "stdout",
     "output_type": "stream",
     "text": [
      "Calculated t-statistic: 4.7619\n"
     ]
    }
   ],
   "source": [
    "import math\n",
    "\n",
    "# Given data for the Honolulu Heart Study case\n",
    "sample_mean_honolulu = 130.1\n",
    "sample_std_honolulu = 21.21\n",
    "pop_mean_honolulu = 120\n",
    "n_honolulu = 100\n",
    "\n",
    "# Calculate the test statistic for the Honolulu Heart Study\n",
    "statistic_honolulu = (sample_mean_honolulu - pop_mean_honolulu) / (sample_std_honolulu / math.sqrt(n_honolulu))\n",
    "print(\"Calculated t-statistic:\", round(statistic_honolulu, 5))"
   ]
  }
 ],
 "metadata": {
  "kernelspec": {
   "display_name": "base",
   "language": "python",
   "name": "python3"
  },
  "language_info": {
   "codemirror_mode": {
    "name": "ipython",
    "version": 3
   },
   "file_extension": ".py",
   "mimetype": "text/x-python",
   "name": "python",
   "nbconvert_exporter": "python",
   "pygments_lexer": "ipython3",
   "version": "3.11.5"
  }
 },
 "nbformat": 4,
 "nbformat_minor": 2
}
